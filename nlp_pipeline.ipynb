{
 "cells": [
  {
   "cell_type": "code",
   "execution_count": 7,
   "metadata": {},
   "outputs": [],
   "source": [
    "from pdf_downloader import download_pdf\n",
    "\n",
    "from parse_pdf_pymupdf import pymupdf_parse_pdf_to_text as pymupdf_parser\n",
    "from parse_pdf_marker import parse_pdf_with_marker as marker_parser\n",
    "\n",
    "from config import test_config\n",
    "\n",
    "pdf_url = test_config.PDF_URLS[2]\n",
    "test_folder_name = 'test_1'"
   ]
  },
  {
   "cell_type": "code",
   "execution_count": 2,
   "metadata": {},
   "outputs": [],
   "source": [
    "downloaded_pdf = download_pdf(pdf_url)"
   ]
  },
  {
   "cell_type": "code",
   "execution_count": 3,
   "metadata": {},
   "outputs": [],
   "source": [
    "#parsed_pdf_pymupdf = pymupdf_parser(downloaded_pdf)"
   ]
  },
  {
   "cell_type": "code",
   "execution_count": 8,
   "metadata": {},
   "outputs": [],
   "source": [
    "parsed_pdf_marker = marker_parser(\"/Users/nicolaszumarragafernandez/Documents/WORK/SEASTONE_AI/TEAMBID/CODE/nlp_pipeline_tests/clean_ai_tender_summaries/data/raw_pdfs/DOC_CN2024-001193585.pdf\")"
   ]
  },
  {
   "cell_type": "code",
   "execution_count": 5,
   "metadata": {},
   "outputs": [
    {
     "name": "stdout",
     "output_type": "stream",
     "text": [
      "Created 344 chunks from data/markdown/PCAP Coor POB.md\n",
      "Saved chunk index to data/chunks/test_1/PCAP Coor POB_index.json\n"
     ]
    }
   ],
   "source": [
    "from markdown_chunker import langchain_chunk_markdown as chunker\n",
    "\n",
    "chunks, chunk_files = chunker(parsed_pdf_marker,\n",
    "                              output_dir=f'data/chunks/{test_folder_name}',\n",
    "                              chunk_size=1024)\n"
   ]
  },
  {
   "cell_type": "code",
   "execution_count": 6,
   "metadata": {},
   "outputs": [
    {
     "name": "stderr",
     "output_type": "stream",
     "text": [
      "/Users/nicolaszumarragafernandez/Documents/WORK/SEASTONE_AI/TEAMBID/CODE/nlp_pipeline_tests/pdf_pipeline_env/lib/python3.12/site-packages/tqdm/auto.py:21: TqdmWarning: IProgress not found. Please update jupyter and ipywidgets. See https://ipywidgets.readthedocs.io/en/stable/user_install.html\n",
      "  from .autonotebook import tqdm as notebook_tqdm\n"
     ]
    },
    {
     "name": "stdout",
     "output_type": "stream",
     "text": [
      "Loading embedding model: BAAI/bge-small-en-v1.5\n",
      "Created 344 embeddings with model BAAI/bge-small-en-v1.5\n",
      "Saved embeddings index to data/embeddings/test_1/embeddings_index.json\n"
     ]
    }
   ],
   "source": [
    "from create_embeddings_fastembed import create_embeddings\n",
    "\n",
    "embeddings, index_path = create_embeddings(\n",
    "    chunks,\n",
    "    output_dir=f\"data/embeddings/{test_folder_name}\",\n",
    "    model_name=\"BAAI/bge-small-en-v1.5\"\n",
    ")"
   ]
  },
  {
   "cell_type": "code",
   "execution_count": 7,
   "metadata": {},
   "outputs": [
    {
     "name": "stdout",
     "output_type": "stream",
     "text": [
      "Loading query embedding model: BAAI/bge-small-en-v1.5\n",
      "Chunk content for RAG: 6.- GARANTÍAS EXIGIBLES.\n",
      "\n",
      "La garantía no será devuelta o cancelada hasta que se haya producido el vencimiento del plazo de garantía establecido en la carátula de este pliego o, en su caso, el que conste en el contrato, y cumplido satisfactoriamente el contrato de que se trate, o hasta que se declare la resolución de éste sin culpa de la contratista. La tramitación se ajustará a las reglas establecidas en el artículo 111 de la LCSP.  \n",
      "En el supuesto de recepción parcial la contratista sólo podrá solicitar la devolución o cancelación de la parte proporcional de la garantía cuando así se haya autorizado expresamente en la carátula de este pliego.  \n",
      "En los casos de cesión de contratos no se procederá a la devolución o cancelación de la garantía prestada por la cedente hasta que se halle formalmente constituida la de la cesionaria.\n",
      "Chunk content for RAG: 11.3.- Vicios y defectos durante el plazo de garantía.\n",
      "\n",
      "El plazo de garantía establecido, en su caso, comienza a contar desde la fecha de recepción o conformidad, transcurrido el cual sin objeciones por parte de BizkaiKOA EPEF quedará extinguida la responsabilidad de la empresa contratista.  \n",
      "Si durante el plazo de garantía se acreditase la existencia de vicios o defectos en los trabajos efectuados el órgano de contratación tendrá derecho a reclamar a la contratista la subsanación de los mismos.  \n",
      "Terminado el plazo de garantía sin que BizkaiKOA EPEF haya formalizado alguno de los reparos o la denuncia a que se refieren los apartados anteriores, la contratista quedará exenta de responsabilidad por razón de la prestación efectuada, sin perjuicio de lo establecido en los artículos 314 y 315 LCSP sobre subsanación de errores y responsabilidad en los contratos que tengan por objeto la elaboración de proyectos de obras.\n",
      "Chunk content for RAG: 6.- GARANTÍAS EXIGIBLES.\n",
      "\n",
      "No obstante, el plazo de cancelación de la garantía definitiva será de SEIS MESES en el caso de que el importe del contrato sea inferior a 100.000 euros, o cuando el adjudicatario reúna los requisitos de pequeña o mediana empresa, definida según lo establecido en el Reglamento CE nº 800/2008, de la Comisión de 6 de agosto de 2008, por el que se declaran determinadas categorías de ayuda compatibles con el mercado común en aplicación de los artículos 107 y 108 del Tratado de Funcionamiento de la Unión Europea y no estén controladas directa o indirectamente por otra empresa que no cumpla tales requisitos (art. 111.5 LCSP).\n",
      "{\n",
      "  \"query\": \"¿Cuál es el plazo de cancelacion de la garantia efectiva?\",\n",
      "  \"answer\": \"Según el contexto proporcionado, el plazo de cancelación de la garantía definitiva es de SEIS MESES en el caso de que el importe del contrato sea inferior a 100.000 euros, o cuando el adjudicatario reúna los requisitos de pequeña o mediana empresa.\",\n",
      "  \"sources\": [\n",
      "    {\n",
      "      \"source\": \"PCAP Coor POB.md\",\n",
      "      \"heading\": \"6.- GARANTÍAS EXIGIBLES.\",\n",
      "      \"similarity\": 0.842465001429059\n",
      "    },\n",
      "    {\n",
      "      \"source\": \"PCAP Coor POB.md\",\n",
      "      \"heading\": \"11.3.- Vicios y defectos durante el plazo de garantía.\",\n",
      "      \"similarity\": 0.8213607262339246\n",
      "    },\n",
      "    {\n",
      "      \"source\": \"PCAP Coor POB.md\",\n",
      "      \"heading\": \"6.- GARANTÍAS EXIGIBLES.\",\n",
      "      \"similarity\": 0.7844534328391258\n",
      "    }\n",
      "  ],\n",
      "  \"prompt\": \"Basado en el contexto siguiente, responde a la pregunta del usuario. Si el contexto proporcionado\\ncontiene la información para responder, dilo así. Si no está claro, indica que no puedes encontrar la información.\\n\\nCONTEXT:\\nDocument 1 from PCAP Coor POB.md\\n6.- GARANTÍAS EXIGIBLES.\\n\\nLa garantía no será devuelta o cancelada hasta que se haya producido el vencimiento del plazo de garantía establecido en la carátula de este pliego o, en su caso, el que conste en el contrato, y cumplido satisfactoriamente el contrato de que se trate, o hasta que se declare la resolución de éste sin culpa de la contratista. La tramitación se ajustará a las reglas establecidas en el artículo 111 de la LCSP.  \\nEn el supuesto de recepción parcial la contratista sólo podrá solicitar la devolución o cancelación de la parte proporcional de la garantía cuando así se haya autorizado expresamente en la carátula de este pliego.  \\nEn los casos de cesión de contratos no se procederá a la devolución o cancelación de la garantía prestada por la cedente hasta que se halle formalmente constituida la de la cesionaria.\\n\\n\\nDocument 2 from PCAP Coor POB.md\\n11.3.- Vicios y defectos durante el plazo de garantía.\\n\\nEl plazo de garantía establecido, en su caso, comienza a contar desde la fecha de recepción o conformidad, transcurrido el cual sin objeciones por parte de BizkaiKOA EPEF quedará extinguida la responsabilidad de la empresa contratista.  \\nSi durante el plazo de garantía se acreditase la existencia de vicios o defectos en los trabajos efectuados el órgano de contratación tendrá derecho a reclamar a la contratista la subsanación de los mismos.  \\nTerminado el plazo de garantía sin que BizkaiKOA EPEF haya formalizado alguno de los reparos o la denuncia a que se refieren los apartados anteriores, la contratista quedará exenta de responsabilidad por razón de la prestación efectuada, sin perjuicio de lo establecido en los artículos 314 y 315 LCSP sobre subsanación de errores y responsabilidad en los contratos que tengan por objeto la elaboración de proyectos de obras.\\n\\n\\nDocument 3 from PCAP Coor POB.md\\n6.- GARANTÍAS EXIGIBLES.\\n\\nNo obstante, el plazo de cancelación de la garantía definitiva será de SEIS MESES en el caso de que el importe del contrato sea inferior a 100.000 euros, o cuando el adjudicatario reúna los requisitos de pequeña o mediana empresa, definida según lo establecido en el Reglamento CE nº 800/2008, de la Comisión de 6 de agosto de 2008, por el que se declaran determinadas categorías de ayuda compatibles con el mercado común en aplicación de los artículos 107 y 108 del Tratado de Funcionamiento de la Unión Europea y no estén controladas directa o indirectamente por otra empresa que no cumpla tales requisitos (art. 111.5 LCSP).\\n\\n\\nQUESTION:\\n¿Cuál es el plazo de cancelacion de la garantia efectiva?\\n\\nANSWER:\\n\"\n",
      "}\n"
     ]
    }
   ],
   "source": [
    "from simple_rag import SimpleRAG\n",
    "import json\n",
    "\n",
    "groq_rag = SimpleRAG(\n",
    "    embeddings,\n",
    "    model_name=\"llama3-70b-8192\"\n",
    ")\n",
    "\n",
    "query = \"¿Cuál es el plazo de cancelacion de la garantia efectiva?\"\n",
    "response = groq_rag.query(query)\n",
    "\n",
    "\n",
    "\n",
    "print(json.dumps(response, indent=2, ensure_ascii=False))"
   ]
  }
 ],
 "metadata": {
  "kernelspec": {
   "display_name": "pdf_pipeline_env",
   "language": "python",
   "name": "python3"
  },
  "language_info": {
   "codemirror_mode": {
    "name": "ipython",
    "version": 3
   },
   "file_extension": ".py",
   "mimetype": "text/x-python",
   "name": "python",
   "nbconvert_exporter": "python",
   "pygments_lexer": "ipython3",
   "version": "3.12.4"
  }
 },
 "nbformat": 4,
 "nbformat_minor": 2
}
